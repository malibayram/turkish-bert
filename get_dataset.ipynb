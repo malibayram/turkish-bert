{
 "cells": [
  {
   "cell_type": "code",
   "execution_count": 2,
   "metadata": {},
   "outputs": [
    {
     "name": "stderr",
     "output_type": "stream",
     "text": [
      "/Users/alibayram/Library/Python/3.9/lib/python/site-packages/urllib3/__init__.py:35: NotOpenSSLWarning: urllib3 v2 only supports OpenSSL 1.1.1+, currently the 'ssl' module is compiled with 'LibreSSL 2.8.3'. See: https://github.com/urllib3/urllib3/issues/3020\n",
      "  warnings.warn(\n"
     ]
    },
    {
     "data": {
      "text/html": [
       "<div>\n",
       "<style scoped>\n",
       "    .dataframe tbody tr th:only-of-type {\n",
       "        vertical-align: middle;\n",
       "    }\n",
       "\n",
       "    .dataframe tbody tr th {\n",
       "        vertical-align: top;\n",
       "    }\n",
       "\n",
       "    .dataframe thead th {\n",
       "        text-align: right;\n",
       "    }\n",
       "</style>\n",
       "<table border=\"1\" class=\"dataframe\">\n",
       "  <thead>\n",
       "    <tr style=\"text-align: right;\">\n",
       "      <th></th>\n",
       "      <th>Puan</th>\n",
       "      <th>Yorum</th>\n",
       "    </tr>\n",
       "  </thead>\n",
       "  <tbody>\n",
       "    <tr>\n",
       "      <th>0</th>\n",
       "      <td>4,0</td>\n",
       "      <td>Benim tarzım filmlerden en güzel olanlarından ...</td>\n",
       "    </tr>\n",
       "    <tr>\n",
       "      <th>1</th>\n",
       "      <td>4,0</td>\n",
       "      <td>Çok etkileyici bir filmdi herkese tavsiye eder...</td>\n",
       "    </tr>\n",
       "    <tr>\n",
       "      <th>2</th>\n",
       "      <td>3,0</td>\n",
       "      <td>kitabını okuduktan sonra filmini izlediğim içi...</td>\n",
       "    </tr>\n",
       "    <tr>\n",
       "      <th>3</th>\n",
       "      <td>3,0</td>\n",
       "      <td>kitabını çok beğenmiştm ama filmi izleyince sa...</td>\n",
       "    </tr>\n",
       "    <tr>\n",
       "      <th>4</th>\n",
       "      <td>4,0</td>\n",
       "      <td>Eğer bir dram filmi arıyosanız bu filmi izleme...</td>\n",
       "    </tr>\n",
       "    <tr>\n",
       "      <th>...</th>\n",
       "      <td>...</td>\n",
       "      <td>...</td>\n",
       "    </tr>\n",
       "    <tr>\n",
       "      <th>192069</th>\n",
       "      <td>2,5</td>\n",
       "      <td>Fena bir film sayılmaz ama çokda iyi bir film ...</td>\n",
       "    </tr>\n",
       "    <tr>\n",
       "      <th>192070</th>\n",
       "      <td>4,0</td>\n",
       "      <td>kesinlikle harika bir film her yönüyle güzel ç...</td>\n",
       "    </tr>\n",
       "    <tr>\n",
       "      <th>192071</th>\n",
       "      <td>4,0</td>\n",
       "      <td>izlemeyen büyük hata yapmış olur</td>\n",
       "    </tr>\n",
       "    <tr>\n",
       "      <th>192072</th>\n",
       "      <td>4,0</td>\n",
       "      <td>vin diesele bakılınca bir zamanların kalıplı a...</td>\n",
       "    </tr>\n",
       "    <tr>\n",
       "      <th>192073</th>\n",
       "      <td>1,0</td>\n",
       "      <td>Vin Diesel yanlış yaptı</td>\n",
       "    </tr>\n",
       "  </tbody>\n",
       "</table>\n",
       "<p>192074 rows × 2 columns</p>\n",
       "</div>"
      ],
      "text/plain": [
       "       Puan                                              Yorum\n",
       "0       4,0  Benim tarzım filmlerden en güzel olanlarından ...\n",
       "1       4,0  Çok etkileyici bir filmdi herkese tavsiye eder...\n",
       "2       3,0  kitabını okuduktan sonra filmini izlediğim içi...\n",
       "3       3,0  kitabını çok beğenmiştm ama filmi izleyince sa...\n",
       "4       4,0  Eğer bir dram filmi arıyosanız bu filmi izleme...\n",
       "...     ...                                                ...\n",
       "192069  2,5  Fena bir film sayılmaz ama çokda iyi bir film ...\n",
       "192070  4,0  kesinlikle harika bir film her yönüyle güzel ç...\n",
       "192071  4,0                   izlemeyen büyük hata yapmış olur\n",
       "192072  4,0  vin diesele bakılınca bir zamanların kalıplı a...\n",
       "192073  1,0                            Vin Diesel yanlış yaptı\n",
       "\n",
       "[192074 rows x 2 columns]"
      ]
     },
     "execution_count": 2,
     "metadata": {},
     "output_type": "execute_result"
    }
   ],
   "source": [
    "import pandas as pd\n",
    "\n",
    "# Login using e.g. `huggingface-cli login` to access this dataset\n",
    "df = pd.read_parquet(\"hf://datasets/alibayram/beyazperde_yorumlar/beyazperdeYorumlar.parquet\")\n",
    "\n",
    "df"
   ]
  },
  {
   "cell_type": "code",
   "execution_count": 3,
   "metadata": {},
   "outputs": [
    {
     "data": {
      "text/plain": [
       "array(['4,0', '3,0', '5,0', '2,5', '2,0', '3,5', '1,0', '4,5', '1,5',\n",
       "       '0,5'], dtype=object)"
      ]
     },
     "execution_count": 3,
     "metadata": {},
     "output_type": "execute_result"
    }
   ],
   "source": [
    "df['Puan'].unique()"
   ]
  },
  {
   "cell_type": "code",
   "execution_count": 4,
   "metadata": {},
   "outputs": [
    {
     "data": {
      "text/plain": [
       "Puan\n",
       "1    139458\n",
       "0     52616\n",
       "Name: count, dtype: int64"
      ]
     },
     "execution_count": 4,
     "metadata": {},
     "output_type": "execute_result"
    }
   ],
   "source": [
    "\"\"\" array(['4,0', '3,0', '5,0', '2,5', '2,0', '3,5', '1,0', '4,5', '1,5',\n",
    "       '0,5'], dtype=object) \"\"\"\n",
    "\n",
    "puan_to_label = {\"0,5\": 0, \"1,0\": 0, \"1,5\": 0, \"2,0\": 0, \"2,5\": 0, \"3,0\": 0, \"3,5\": 1, \"4,0\": 1, \"4,5\": 1, \"5,0\": 1}\n",
    "\n",
    "df['Puan'] = df['Puan'].map(puan_to_label)\n",
    "\n",
    "# counts positive and negative reviews\n",
    "df['Puan'].value_counts()"
   ]
  },
  {
   "cell_type": "code",
   "execution_count": 10,
   "metadata": {},
   "outputs": [],
   "source": [
    "# get 1000 positive and 1000 negative reviews\n",
    "positive_reviews = df[df['Puan'] == 1].sample(1000)\n",
    "negative_reviews = df[df['Puan'] == 0].sample(1000)\n",
    "\n",
    "# concatenate positive and negative reviews\n",
    "combined_reviews = pd.concat([positive_reviews, negative_reviews])\n",
    "\n",
    "# shuffle the reviews\n",
    "combined_reviews = combined_reviews.sample(frac=1).reset_index(drop=True)\n",
    "\n",
    "# save to csv\n",
    "combined_reviews.to_csv(\"combined_reviews.csv\", index=False)\n"
   ]
  }
 ],
 "metadata": {
  "kernelspec": {
   "display_name": "Python 3",
   "language": "python",
   "name": "python3"
  },
  "language_info": {
   "codemirror_mode": {
    "name": "ipython",
    "version": 3
   },
   "file_extension": ".py",
   "mimetype": "text/x-python",
   "name": "python",
   "nbconvert_exporter": "python",
   "pygments_lexer": "ipython3",
   "version": "3.9.6"
  }
 },
 "nbformat": 4,
 "nbformat_minor": 2
}
